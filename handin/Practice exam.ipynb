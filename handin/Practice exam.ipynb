{
 "cells": [
  {
   "cell_type": "code",
   "execution_count": null,
   "metadata": {},
   "outputs": [],
   "source": []
  },
  {
   "cell_type": "code",
   "execution_count": null,
   "metadata": {},
   "outputs": [],
   "source": [
    "###PART 1\n",
    "#Question 1\n",
    "import Bio.PDB as PDB\n",
    "import os\n",
    "\n",
    "def extract_res(n, directory = \"top100H\"):\n",
    "    '''Takes in a value n and a directory. Returns a dictionary with entries for all files in the directory. \n",
    "    Each dictionary entry contains a list of polypeptide segments of length n.'''\n",
    "    #create parser\n",
    "    parser = PDB.PDBParser(QUIET = True) #Quiet ignores warnings\n",
    "    #create polypetide builder\n",
    "    pp_builder = PDB.PPBuilder() #build polypeptides to ensure the AAs are connected\n",
    "\n",
    "    res_dict = {} #list of all 9 residues\n",
    "    for filename in os.listdir(directory): #loop through all files in directory\n",
    "        try:\n",
    "            structure = parser.get_structure(filename, os.path.join(directory, filename)) #create structure\n",
    "            pp_list = pp_builder.build_peptides(structure) #create list of polypeptides for each structure\n",
    "            ll = [] #list of sublists\n",
    "            for pp in pp_list: #for every polyeptide in the list of polypeptides:\n",
    "                for i in range(len(pp)-(n-1)): #ignore last 8 amino acids\n",
    "                    #if PDB.is_aa(pp[i], standard=True): #check if polypeptide is a standard AA\n",
    "                    sublist = pp[i:i+n] #create sublist of 9 AAs\n",
    "                    if check_true(sublist):\n",
    "                        ll.append(sublist) #for every protein, group together all the sublists\n",
    "            res_dict[filename] = ll #store the list of sublists into the corresponding protein entry\n",
    "        except (TypeError, ValueError) as e: #check for type errpr and value erorr\n",
    "            print(\"Could not parse\", filename)\n",
    "    return res_dict\n",
    "\n",
    "def check_true(AAs_list):\n",
    "    t = 0\n",
    "    for i in AAs_list:\n",
    "        if PDB.is_aa(i, standard=True):\n",
    "            t+=1\n",
    "    if t == 9:\n",
    "        return True\n",
    "    else:\n",
    "        return False"
   ]
  },
  {
   "cell_type": "code",
   "execution_count": 2,
   "metadata": {},
   "outputs": [
    {
     "name": "stdout",
     "output_type": "stream",
     "text": [
      "Could not parse 1etmH\n",
      "Could not parse 2mhrH\n"
     ]
    }
   ],
   "source": [
    "residue_segments = extract_res(9)"
   ]
  },
  {
   "cell_type": "code",
   "execution_count": 3,
   "metadata": {},
   "outputs": [],
   "source": [
    "#Question 2\n",
    "import random\n",
    "import numpy as np\n",
    "\n",
    "def select_one(AA, prot):\n",
    "    '''For a given AA, this function selects one random fragment \n",
    "    with the central AA from a list of fragments'''\n",
    "    frag_list = []\n",
    "    for frag in prot:\n",
    "        if frag[4].get_resname() == AA: #Checks for middle amino acid\n",
    "            frag_list.append(frag)\n",
    "        elif AA == \"N\": #If the AA is N, then it will not select for any amino acid\n",
    "            frag_list.append(frag)\n",
    "    if len(frag_list) == 0: #If the protein has no fragments, an empty list is retured (to fix a bug)\n",
    "        return []\n",
    "    random_frag = random.choice(frag_list)\n",
    "    c = []\n",
    "    for res in random_frag:\n",
    "        for atom in res:\n",
    "            if atom.get_id() == \"CA\" or atom.get_id() == \"C\" or atom.get_id() == \"N\":\n",
    "                c.append(atom.get_coord())\n",
    "    if np.shape(c) != (27, 3): #Some residues have less than 9 backbone atoms, this check ignores them\n",
    "        return []\n",
    "    else:\n",
    "        return random_frag\n",
    "\n",
    "def select_pair(AA, res_dict):\n",
    "    '''For a given AA, this function returns a pair of fragments \n",
    "    each with a central AA from a dictionary of fragment lists'''\n",
    "    prot_list = list(res_dict.keys()) #create list of protein names\n",
    "    frag1 = []\n",
    "    frag2 = []\n",
    "    while True: #loops forever\n",
    "        prot1 = random.choice(prot_list) #select 1 random protein\n",
    "        frag1 = select_one(AA, residue_segments[prot1]) #select 1 fragment from that protein\n",
    "        if len(frag1) == 0:\n",
    "            prot_list.remove(prot1) #if there are zero fragments, remove that protein from future searches\n",
    "        else:\n",
    "            prot_list.remove(prot1) #protein 1 is selected, so remove it so that it is not selected for protein 2\n",
    "            prot2 = random.choice(prot_list)\n",
    "            frag2 = select_one(AA, residue_segments[prot2])\n",
    "            if len(frag2) == 0:\n",
    "                prot_list.remove(prot2) #if there are zero fragments, remove that protein from future searches\n",
    "            else:\n",
    "                prot_list = list(res_dict.keys())\n",
    "                break #both fragments are found so stop loop\n",
    "    pair = [frag1, frag2]\n",
    "    return(pair)\n",
    "\n",
    "def get_center(m):\n",
    "    c = (3*5) - 2\n",
    "    m_ca = m[:,c]\n",
    "    centered_m = m - m_ca\n",
    "    return(centered_m)\n",
    "\n",
    "def RMSD(a, b, manual = False):\n",
    "    '''This function takes in two matrices, each containing all the\n",
    "    coordinates of a protein and returns the transformation matrix\n",
    "    and the RMSD value'''\n",
    "    #center a and b\n",
    "    centered_a = get_center(a)\n",
    "    centered_b = get_center(b)\n",
    "\n",
    "    #calculate n\n",
    "    n = np.size(centered_a)/len(centered_a)\n",
    "\n",
    "    #calculate R\n",
    "    R = centered_b * centered_a.T\n",
    "\n",
    "    #SVD\n",
    "    V, S, W_t = np.linalg.svd(R)\n",
    "    \n",
    "    #Calculate U\n",
    "    U = W_t.T * V.T\n",
    "\n",
    "    #check if U is a reflection (-1)\n",
    "    if round(np.linalg.det(U)) == -1 :\n",
    "        Z = np.diag([1,1,-1])\n",
    "        U = W_t.T * Z * V.T #reflect U so that it is no longer a reflection\n",
    "        S = -S[2]\n",
    "\n",
    "    if manual == False:\n",
    "        #calculate E_0 and n\n",
    "        E_0 = np.linalg.norm(centered_a)**2 + np.linalg.norm(centered_b)**2\n",
    "\n",
    "        #calculate RMSD using the formula\n",
    "        RMSD = np.sqrt(1/n * (E_0 - 2 * sum(S)))\n",
    "        return(RMSD)\n",
    "    else:\n",
    "        #Rotate B\n",
    "        rotated_b = U * centered_b\n",
    "        #manually calculate RMSD of a and rotated b\n",
    "        man_RMSD = np.sqrt((1/n) * np.linalg.norm(centered_a - rotated_b)**2)\n",
    "        return(man_RMSD)\n",
    "\n",
    "def get_coord(structure):\n",
    "    '''Converts a list of residues, into a matrix of coordinates'''\n",
    "    backbone = [\"CA\", \"C\", \"N\"] #get coordinates for these atoms\n",
    "    coord_list = []\n",
    "    for residue in structure:\n",
    "        if PDB.is_aa(residue) == True: #check if the residue is an animo acid\n",
    "            for atom in residue.get_atoms():\n",
    "                if atom.get_id() in backbone: #check if the atom is a backbone atom\n",
    "                    coord_list.append(atom.get_coord()) #get the coridnate of the atom and append to the list\n",
    "    coord_matrix = np.matrix(coord_list).T #Turn the list into a matrix and transpose it\n",
    "    return coord_matrix\n",
    "\n",
    "def RMSD_AA(AA_list, res_dict, n = 500):\n",
    "    RMSD_dict = {}\n",
    "    PRO_pair = []\n",
    "    PRO_R = []\n",
    "    for AA in AA_list:\n",
    "        RMSD_list = []\n",
    "        for i in range(n):\n",
    "            pair = select_pair(AA, res_dict)\n",
    "            coord1 = get_coord(pair[0])\n",
    "            coord2 = get_coord(pair[1])\n",
    "            RMSD_val = RMSD(coord1, coord2)\n",
    "            RMSD_list.append(RMSD_val)\n",
    "            if AA == \"PRO\":\n",
    "                PRO_pair.append(pair)\n",
    "                PRO_R.append(RMSD_val)\n",
    "        RMSD_dict[AA] = RMSD_list\n",
    "    return (RMSD_dict, PRO_R, PRO_pair)"
   ]
  },
  {
   "cell_type": "code",
   "execution_count": 4,
   "metadata": {},
   "outputs": [],
   "source": [
    "AAs = [\"ALA\", \"GLY\", \"PRO\", \"PHE\", \"ASP\", \"ARG\", \"LEU\", \"N\"]\n",
    "tup = RMSD_AA(AAs, residue_segments)\n",
    "AAs_RMSD = tup[0]"
   ]
  },
  {
   "cell_type": "code",
   "execution_count": 6,
   "metadata": {},
   "outputs": [
    {
     "data": {
      "image/png": "[encoded data removed]",
      "text/plain": [
       "<Figure size 720x2160 with 8 Axes>"
      ]
     },
     "metadata": {
      "needs_background": "light"
     },
     "output_type": "display_data"
    }
   ],
   "source": [
    "#Question 3\n",
    "import matplotlib.pyplot as plt\n",
    "from matplotlib import colors\n",
    "from matplotlib.ticker import PercentFormatter\n",
    "\n",
    "fig, axs = plt.subplots(8, 1, sharey=True, sharex=True, tight_layout=True, figsize=(10, 30))\n",
    "\n",
    "for i in range(len(AAs)):\n",
    "    axs[i].hist(AAs_RMSD[AAs[i]], bins=50)\n",
    "    axs[i].set_title(AAs[i])\n",
    "    axs[i].set_xlabel(\"RMSD\")\n",
    "    axs[i].set_ylabel(\"Frequency\")"
   ]
  },
  {
   "cell_type": "code",
   "execution_count": 82,
   "metadata": {},
   "outputs": [],
   "source": [
    "#Question 4\n",
    "#Completed in previous question\n"
   ]
  },
  {
   "cell_type": "code",
   "execution_count": 7,
   "metadata": {},
   "outputs": [],
   "source": [
    "#Question 5\n",
    "PRO_R = tup[1]\n",
    "PRO_pairs = tup[2]\n",
    "sorted_PRO_R = sorted(PRO_R)\n",
    "min_6 = sorted_PRO_R[0:6]\n",
    "min_6_pairs = []\n",
    "for i in range(len(min_6)):\n",
    "    index = PRO_R.index(min_6[i])\n",
    "    min_6_pairs.append(PRO_pairs[index])\n",
    "#print(min_6_pairs)\n",
    "###save these as pdb files so that pymol can load them and superimopose them."
   ]
  },
  {
   "cell_type": "code",
   "execution_count": 8,
   "metadata": {},
   "outputs": [
    {
     "data": {
      "text/plain": [
       "[[<Residue GLU het=  resseq=70 icode= >,\n",
       "  <Residue CYS het=  resseq=71 icode= >,\n",
       "  <Residue TRP het=  resseq=72 icode= >,\n",
       "  <Residue CYS het=  resseq=73 icode= >,\n",
       "  <Residue PRO het=  resseq=74 icode= >,\n",
       "  <Residue PHE het=  resseq=75 icode= >,\n",
       "  <Residue GLY het=  resseq=76 icode= >,\n",
       "  <Residue PHE het=  resseq=77 icode= >,\n",
       "  <Residue GLU het=  resseq=78 icode= >],\n",
       " [<Residue THR het=  resseq=278 icode= >,\n",
       "  <Residue LYS het=  resseq=279 icode= >,\n",
       "  <Residue VAL het=  resseq=280 icode= >,\n",
       "  <Residue VAL het=  resseq=281 icode= >,\n",
       "  <Residue PRO het=  resseq=282 icode= >,\n",
       "  <Residue ILE het=  resseq=283 icode= >,\n",
       "  <Residue ASP het=  resseq=284 icode= >,\n",
       "  <Residue ALA het=  resseq=285 icode= >,\n",
       "  <Residue ILE het=  resseq=286 icode= >]]"
      ]
     },
     "execution_count": 8,
     "metadata": {},
     "output_type": "execute_result"
    }
   ],
   "source": [
    "#export 1 pair to test on pymol\n",
    "#then figure out how to do the rest\n",
    "min_6_pairs[0]"
   ]
  },
  {
   "cell_type": "code",
   "execution_count": null,
   "metadata": {},
   "outputs": [],
   "source": [
    "###PART 2\n",
    "#Question 1"
   ]
  },
  {
   "cell_type": "code",
   "execution_count": null,
   "metadata": {},
   "outputs": [],
   "source": [
    "\n"
   ]
  },
  {
   "cell_type": "code",
   "execution_count": null,
   "metadata": {},
   "outputs": [],
   "source": []
  },
  {
   "cell_type": "code",
   "execution_count": 62,
   "metadata": {},
   "outputs": [],
   "source": []
  },
  {
   "cell_type": "code",
   "execution_count": null,
   "metadata": {},
   "outputs": [],
   "source": []
  },
  {
   "cell_type": "code",
   "execution_count": null,
   "metadata": {},
   "outputs": [],
   "source": []
  },
  {
   "cell_type": "code",
   "execution_count": null,
   "metadata": {},
   "outputs": [],
   "source": []
  },
  {
   "cell_type": "code",
   "execution_count": null,
   "metadata": {},
   "outputs": [],
   "source": []
  }
 ],
 "metadata": {
  "kernelspec": {
   "display_name": "struc-kernel",
   "language": "python",
   "name": "struc-kernel"
  },
  "language_info": {
   "codemirror_mode": {
    "name": "ipython",
    "version": 3
   },
   "file_extension": ".py",
   "mimetype": "text/x-python",
   "name": "python",
   "nbconvert_exporter": "python",
   "pygments_lexer": "ipython3",
   "version": "3.7.5"
  }
 },
 "nbformat": 4,
 "nbformat_minor": 4
}
