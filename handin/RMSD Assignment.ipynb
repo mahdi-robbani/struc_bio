{
 "cells": [
  {
   "cell_type": "markdown",
   "metadata": {},
   "source": [
    "# Part 1\n",
    "## Introduction \n",
    "Two point sets (a and b) consisting of 5 points each (5 x 3 matrices) are provided. The task is to find the optimal rotation matrix U such that the RMSD is minimized as well as to calculate the minimum RMSD using both the formula and manually using the rotated coordinates to confirm that similar results are obtained. \n",
    "\n",
    "This is achieved by centering both a and b and then calculating the R matrix. Singular Value Decomposition is then performed on the R matrix to obtain the V matrix, S array and transposed W matrix. The rotation matrix U is calculated by multiplying the W matrix with the transposed V matrix. The determinant of the rotation matrix is then calculated. If the determinent of U is -1, the rotation matrix is a roto-reflection which cannot occur in real proteins, so the matrix U is reflected in order to account for this. Finally, the RMSD is calculated using the formula or the matrix b is rotated using the rotation matrix U, and the RMSD of a and the rotated b is calculated.\n",
    "\n",
    "The following code performs this function:"
   ]
  },
  {
   "cell_type": "code",
   "execution_count": 4,
   "metadata": {},
   "outputs": [],
   "source": [
    "import numpy as np\n",
    "\n",
    "def RMSD(a, b, manual = False):\n",
    "    '''This function takes in two matrices, each containing all the\n",
    "    coordinates of a protein and returns the transformation matrix\n",
    "    and the RMSD value'''\n",
    "    #center a and b\n",
    "    center_of_mass_a = a.sum(1)/a.shape[1]\n",
    "    centered_a = a - center_of_mass_a\n",
    "\n",
    "    center_of_mass_b = b.sum(1)/b.shape[1]\n",
    "    centered_b = b - center_of_mass_b\n",
    "    \n",
    "    #calculate n\n",
    "    n = np.size(centered_a)/len(centered_a)\n",
    "\n",
    "    #calculate R\n",
    "    R = centered_b * centered_a.T\n",
    "\n",
    "    #SVD\n",
    "    V, S, W_t = np.linalg.svd(R)\n",
    "    \n",
    "    #Calculate U\n",
    "    U = W_t.T * V.T\n",
    "\n",
    "    #check if U is a reflection (-1)\n",
    "    if round(np.linalg.det(U)) == -1 :\n",
    "        Z = np.diag([1,1,-1])\n",
    "        U = W_t.T * Z * V.T #reflect U so that it is no longer a reflection\n",
    "        S[2] = -S[2] #S has to be negative if det is -1 because we need it in the calcualtions\n",
    "\n",
    "\n",
    "    if manual == False:\n",
    "        print(\"U = \", U)\n",
    "        \n",
    "        #calculate E_0 and n\n",
    "        E_0 = np.linalg.norm(centered_a)**2 + np.linalg.norm(centered_b)**2\n",
    "\n",
    "        #calculate RMSD using the formula\n",
    "        RMSD = np.sqrt(1/n * (E_0 - 2 * sum(S)))\n",
    "        return(RMSD)\n",
    "    else:\n",
    "        #Rotate B\n",
    "        rotated_b = U * centered_b\n",
    "        #manually calculate RMSD of a and rotated b\n",
    "        man_RMSD = np.sqrt((1/n) * np.linalg.norm(centered_a - rotated_b)**2)\n",
    "        return(man_RMSD)"
   ]
  },
  {
   "cell_type": "code",
   "execution_count": 6,
   "metadata": {},
   "outputs": [
    {
     "name": "stdout",
     "output_type": "stream",
     "text": [
      "[2.7943044  0.3091084  0.04308294]\n",
      "0.04308294\n",
      "-0.04308294\n",
      "U =  [[-0.16213693  0.6109726   0.77487034]\n",
      " [ 0.4972902   0.72884375 -0.4706264 ]\n",
      " [-0.8522993   0.3090295  -0.42200318]]\n",
      "RMSD using the formula: 3.8760709877649164\n",
      "[2.7943044  0.3091084  0.04308294]\n",
      "0.04308294\n",
      "-0.04308294\n",
      "RMSD using the rotated matrix: 3.8760709486667966\n"
     ]
    }
   ],
   "source": [
    "a = np.matrix(\n",
    "        [[ 18.92238689,  9.18841188,  8.70764463,  9.38130981,  8.53057997],\n",
    "        [ 1.12391951,  0.8707568 ,  1.01214183,  0.59383894,  0.65155349],\n",
    "        [ 0.46106398,  0.62858099, -0.02625641,  0.35264203,  0.53670857]], 'f')\n",
    "b = np.matrix(\n",
    "        [[ 1.68739355,  1.38774297,  2.1959675 ,  1.51248281,  1.70793414],\n",
    "        [ 8.99726755,  8.73213223,  8.86804272,  8.31722197,  8.9924607 ],\n",
    "        [ 1.1668153 ,  1.1135669 ,  1.02279055,  1.06534992,  0.54881902]], 'f')\n",
    "\n",
    "print(\"RMSD using the formula:\", RMSD(a, b))\n",
    "print(\"RMSD using the rotated matrix:\", RMSD(a, b, manual = True))"
   ]
  },
  {
   "cell_type": "markdown",
   "metadata": {},
   "source": [
    "# Part 2\n",
    "## Introduction\n",
    "The task is to superimpose the C-alpha coordinates of Chain A in model 0 onto the C-alpha coordinates of Chain A in model 1 in PDB file 1LCD.\n",
    "\n",
    "This is accomplished by first extracing model 0 and 1 from the PDB file. Next, we loop through each residue in the struture and check if it is an amino acid. If it is, then we loop through all the atoms and check if the atom is a C-alpha atom. If it is, then we extract the coordinates of the atom and store it in a list. The list of coordinates is then transformed into a matrix and the matrix of coordinates is used by the previous RMSD function to find the rotation matrix and to calculate the RMSD. \n",
    "\n",
    "The following code performs this function:"
   ]
  },
  {
   "cell_type": "code",
   "execution_count": 1,
   "metadata": {},
   "outputs": [
    {
     "name": "stdout",
     "output_type": "stream",
     "text": [
      "<Chain id=A>\n"
     ]
    }
   ],
   "source": [
    "import Bio.PDB as PDB\n",
    "\n",
    "def get_coord(structure):\n",
    "    '''Converts a list of residues, into a matrix of coordinates'''\n",
    "    coord_list = []\n",
    "    for residue in structure:\n",
    "        if PDB.is_aa(residue) == True: #check if the residue is an animo acid\n",
    "            for atom in residue.get_atoms():\n",
    "                if atom.get_id() == \"CA\": #check if the atom in the residue is a calpha atom\n",
    "                    coord_list.append(atom.get_coord()) #get the coridnate of the atom and append to the list\n",
    "    coord_matrix = np.matrix(coord_list).T #Turn the list into a matrix and transpose it\n",
    "    return coord_matrix\n",
    "\n",
    "#create parser object to open the file\n",
    "parser = pdb.PDBParser(QUIET = True)\n",
    "#create the structure\n",
    "structure = parser.get_structure(\"LAC_Repressor\", \"1LCD.pdb\")\n",
    "\n",
    "#Isolate chain A of structure 0 and 1 (this is an NMR structure)\n",
    "chain_A_0 = structure[0][\"A\"] #structure 0 and chain A\n",
    "chain_A_1 = structure[1][\"A\"] #structure 1 and chain A    "
   ]
  },
  {
   "cell_type": "code",
   "execution_count": 40,
   "metadata": {},
   "outputs": [
    {
     "name": "stdout",
     "output_type": "stream",
     "text": [
      "U =  [[ 0.9884573  -0.11764576  0.09545439]\n",
      " [ 0.12330487  0.9908039  -0.05570936]\n",
      " [-0.08802263  0.06683634  0.9938738 ]]\n",
      "RMSD using the formula: 0.7877815509379383\n",
      "RMSD using the rotated matrix: 0.7877812063384226\n"
     ]
    }
   ],
   "source": [
    "X = get_coord(chain_A_0)\n",
    "Y = get_coord(chain_A_1)\n",
    "\n",
    "assert(shape(X) == shape(Y)) #check if your matrix is actually the right size\n",
    "\n",
    "print(\"RMSD using the formula:\", RMSD(X, Y))\n",
    "print(\"RMSD using the rotated matrix:\", RMSD(X, Y, manual = True))"
   ]
  }
 ],
 "metadata": {
  "kernelspec": {
   "display_name": "struc-kernel",
   "language": "python",
   "name": "struc-kernel"
  },
  "language_info": {
   "codemirror_mode": {
    "name": "ipython",
    "version": 3
   },
   "file_extension": ".py",
   "mimetype": "text/x-python",
   "name": "python",
   "nbconvert_exporter": "python",
   "pygments_lexer": "ipython3",
   "version": "3.7.5"
  }
 },
 "nbformat": 4,
 "nbformat_minor": 4
}
